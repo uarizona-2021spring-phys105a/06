{
 "cells": [
  {
   "cell_type": "markdown",
   "id": "coastal-fortune",
   "metadata": {},
   "source": [
    "## PHYS 105A:  Introduction to Scientific Computing\n",
    "\n",
    "# Data Processing with Python\n",
    "\n",
    "In this assignment, we will use python to process climate data."
   ]
  },
  {
   "cell_type": "code",
   "execution_count": null,
   "id": "signed-longitude",
   "metadata": {},
   "outputs": [],
   "source": [
    "# Step 1. Import Libraries\n",
    "\n",
    "import numpy as np\n",
    "import pandas as pd\n",
    "\n",
    "from matplotlib import pyplot as plt\n",
    "from scipy.optimize import curve_fit"
   ]
  },
  {
   "cell_type": "code",
   "execution_count": null,
   "id": "victorian-average",
   "metadata": {},
   "outputs": [],
   "source": [
    "# Step 2. Load data from csv file\n",
    "\n",
    "df = pd.read_csv('GlobalTemperatures.csv')\n",
    "\n",
    "# You may look at the column names by\n",
    "df.columns"
   ]
  },
  {
   "cell_type": "code",
   "execution_count": null,
   "id": "american-officer",
   "metadata": {},
   "outputs": [],
   "source": [
    "# Step 3. Convert the \"dt\" column to datetime format\n",
    "\n",
    "df.dt = pd.________(df.dt) # what function to call here?"
   ]
  },
  {
   "cell_type": "code",
   "execution_count": null,
   "id": "dietary-vegetable",
   "metadata": {},
   "outputs": [],
   "source": [
    "# Step 4. Plot the different columns\n",
    "\n",
    "plt.plot(df.______, df.______)"
   ]
  },
  {
   "cell_type": "code",
   "execution_count": null,
   "id": "anonymous-current",
   "metadata": {},
   "outputs": [],
   "source": [
    "# Step 5. Average the temperature every year\n",
    "#\n",
    "# The seasonal changes in temperature is confusing.\n",
    "# Let's try to average them out by using pandas' \"groupby()\" function.\n",
    "# What do you see?\n",
    "\n",
    "ym = df.groupby(by=[________]).mean()\n",
    "\n",
    "display(ym)\n",
    "\n",
    "plt.plot(ym.index, ym.________)"
   ]
  },
  {
   "cell_type": "code",
   "execution_count": null,
   "id": "antique-section",
   "metadata": {},
   "outputs": [],
   "source": [
    "# Step 6. Fit a model to the global temperature changes\n",
    "\n",
    "# Construct a model\n",
    "def func(t, ________):\n",
    "    return ________\n",
    "\n",
    "popt, pcov = curve_fit(func, ym.index, ym.________)\n",
    "\n",
    "# This contains the fitted parameters\n",
    "print(popt)"
   ]
  },
  {
   "cell_type": "code",
   "execution_count": null,
   "id": "obvious-lighting",
   "metadata": {},
   "outputs": [],
   "source": [
    "# Step 7. Overfit the model to the data.\n",
    "\n",
    "plt.plot(ym.index, mm.________)\n",
    "plt.plot(ym.index, func(ym.index, *popt))"
   ]
  }
 ],
 "metadata": {
  "kernelspec": {
   "display_name": "Python 3",
   "language": "python",
   "name": "python3"
  },
  "language_info": {
   "codemirror_mode": {
    "name": "ipython",
    "version": 3
   },
   "file_extension": ".py",
   "mimetype": "text/x-python",
   "name": "python",
   "nbconvert_exporter": "python",
   "pygments_lexer": "ipython3",
   "version": "3.8.8"
  }
 },
 "nbformat": 4,
 "nbformat_minor": 5
}
